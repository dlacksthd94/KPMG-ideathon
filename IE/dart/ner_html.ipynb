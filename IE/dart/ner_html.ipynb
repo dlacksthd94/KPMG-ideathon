{
 "cells": [
  {
   "cell_type": "code",
   "execution_count": 109,
   "metadata": {},
   "outputs": [],
   "source": [
    "import os \n",
    "import pandas as pd\n",
    "import numpy as np\n",
    "import re, html\n",
    "import requests\n",
    "# from bs4 import BeautifulSoup as BS, NavigableString, SoupStrainer\n",
    "from bs4 import BeautifulSoup as bs \n",
    "from html_table_parser import parser_functions\n",
    "from pororo import Pororo\n",
    "import time\n",
    "import pickle\n",
    "from tqdm import tqdm"
   ]
  },
  {
   "cell_type": "code",
   "execution_count": 107,
   "metadata": {},
   "outputs": [],
   "source": [
    "EV = pd.read_csv('/home/kic/data/kodex/EV_processed.csv', dtype=object)\n",
    "\n",
    "sungwook = EV.loc[0:23, 'corp_code']\n",
    "sangwoo = EV.loc[23:45, 'corp_code']\n",
    "ahreum = EV.loc[45:, 'corp_code']\n",
    "\n",
    "# 각자 이름 넣기!\n",
    "name = EV.corp_code"
   ]
  },
  {
   "attachments": {},
   "cell_type": "markdown",
   "metadata": {},
   "source": [
    "### HTML crawling & parsing"
   ]
  },
  {
   "cell_type": "code",
   "execution_count": 110,
   "metadata": {},
   "outputs": [
    {
     "name": "stderr",
     "output_type": "stream",
     "text": [
      " 81%|██████████████████████████████████▋        | 54/67 [55:57<13:29, 62.30s/it]Bad pipe message: %s [b'UE{\\xc6\\\\\\xf4\\xcct=\\x87\\xcfX\\xb0\\xbf\\x90S\\xf6\\x87 J\\xf8\\xd8', b'> \\xeb\\xb1\\xf9Y\\xb6a\\xa8F\\x9e\\x8d\\xbcm9\\xa2T]N\\xad%\\xc9J\\xc8\\xbe\\xf0\\x1e\\x00\\x08\\x13']\n",
      "Bad pipe message: %s [b'\\x03', b'\\x00\\xff\\x01\\x00\\x00\\x8f\\x00\\x00\\x00\\x0e\\x00\\x0c\\x00\\x00\\t127', b'.0.1\\x00\\x0b\\x00\\x04\\x03\\x00\\x01\\x02\\x00\\n\\x00\\x0c\\x00\\n\\x00\\x1d\\x00\\x17\\x00\\x1e\\x00\\x19\\x00\\x18\\x00#\\x00\\x00\\x00\\x16\\x00\\x00\\x00\\x17\\x00\\x00\\x00\\r\\x00\\x1e\\x00']\n",
      "Bad pipe message: %s [b'\\x03\\x05\\x03\\x06\\x03\\x08\\x07\\x08\\x08\\x08\\t\\x08\\n\\x08\\x0b\\x08\\x04\\x08\\x05\\x08\\x06\\x04\\x01\\x05\\x01\\x06\\x01']\n",
      "Bad pipe message: %s [b'+K_I2lR\\xcdR\\xac\\xa8` #\\xc5\\x1a~7 UB\\xd3\\x07\\x99\\xf1\\xb5\\xd24\\xc6\\x10\\x19\\xd8\\x9b?\\xf9\\x0e\\xff\\xc4w\\xd92\\xba\\x19B~:\\r\\xa1\\x16R\\xb3\\x00\\x08\\x13\\x02\\x13\\x03\\x13\\x01\\x00\\xff\\x01\\x00\\x00\\x8f\\x00\\x00\\x00\\x0e\\x00\\x0c\\x00\\x00\\t127.0.0.1\\x00\\x0b\\x00\\x04']\n",
      "Bad pipe message: %s [b'\\x01\\x02']\n",
      "Bad pipe message: %s [b\"\\xd4k\\xf7\\x14\\x84\\x82\\x93\\xc1\\xf1\\x1ab\\x9d\\xa6Z\\xb5\\x1alh\\x00\\x00|\\xc0,\\xc00\\x00\\xa3\\x00\\x9f\\xcc\\xa9\\xcc\\xa8\\xcc\\xaa\\xc0\\xaf\\xc0\\xad\\xc0\\xa3\\xc0\\x9f\\xc0]\\xc0a\\xc0W\\xc0S\\xc0+\\xc0/\\x00\\xa2\\x00\\x9e\\xc0\\xae\\xc0\\xac\\xc0\\xa2\\xc0\\x9e\\xc0\\\\\\xc0`\\xc0V\\xc0R\\xc0$\\xc0(\\x00k\\x00j\\xc0#\\xc0'\\x00g\\x00@\\xc0\\n\\xc0\\x14\\x009\\x008\\xc0\\t\\xc0\\x13\\x003\\x002\\x00\\x9d\\xc0\\xa1\\xc0\\x9d\\xc0Q\\x00\\x9c\\xc0\\xa0\\xc0\\x9c\\xc0P\\x00=\\x00<\\x005\\x00/\\x00\\x9a\\x00\\x99\\xc0\\x07\\xc0\\x11\\x00\\x96\\x00\\x05\\x00\\xff\\x01\\x00\\x00j\\x00\\x00\\x00\\x0e\\x00\\x0c\\x00\\x00\\t127.0.0.1\\x00\\x0b\\x00\\x04\\x03\\x00\\x01\\x02\\x00\\n\\x00\\x0c\\x00\\n\\x00\\x1d\\x00\\x17\\x00\\x1e\\x00\\x19\\x00\\x18\\x00#\\x00\\x00\\x00\\x16\\x00\\x00\\x00\\x17\\x00\\x00\\x00\\r\\x000\\x00.\\x04\\x03\\x05\\x03\\x06\\x03\\x08\\x07\\x08\\x08\\x08\\t\\x08\\n\\x08\\x0b\\x08\\x04\\x08\\x05\\x08\\x06\\x04\\x01\\x05\\x01\"]\n",
      "Bad pipe message: %s [b'\\x03\\x03\\x02\\x03\\x03', b'']\n",
      "Bad pipe message: %s [b'', b'\\x02']\n",
      "Bad pipe message: %s [b'\\x05\\x02\\x06']\n",
      "Bad pipe message: %s [b'V\\xc6\\xa3f\\x15\\xd2a\\xb9\\xf6\\xe1o\\x86\\xabpBz\\x04k\\x00\\x00\\xa6\\xc0,\\xc00\\x00\\xa3\\x00\\x9f\\xcc\\xa9\\xcc\\xa8\\xcc\\xaa\\xc0\\xaf\\xc0\\xad\\xc0\\xa3\\xc0\\x9f\\xc0]\\xc0a\\xc0W\\xc0S\\xc0+\\xc0/\\x00\\xa2\\x00\\x9e\\xc0\\xae\\xc0\\xac\\xc0\\xa2\\xc0\\x9e\\xc0\\\\\\xc0`\\xc0']\n",
      "Bad pipe message: %s [b\"R\\xc0$\\xc0(\\x00k\\x00j\\xc0s\\xc0w\\x00\\xc4\\x00\\xc3\\xc0#\\xc0'\\x00g\\x00@\\xc0r\\xc0v\\x00\\xbe\\x00\\xbd\\xc0\\n\\xc0\\x14\\x009\\x008\\x00\\x88\\x00\\x87\\xc0\\t\\xc0\\x13\\x003\\x002\\x00\\x9a\\x00\\x99\\x00E\\x00D\\xc0\\x07\\xc0\\x11\\xc0\\x08\\xc0\\x12\\x00\\x16\\x00\\x13\\x00\\x9d\\xc0\\xa1\\xc0\\x9d\\xc0Q\\x00\\x9c\\xc0\\xa0\"]\n",
      "Bad pipe message: %s [b'\\\\\\x9bj\\x1a\\x86(i2\\x92\\xd6lc\\xa1\\x84\\x05\\xcf\\x99\\x9c\\x00\\x00\\xa2\\xc0\\x14\\xc0\\n\\x009\\x008\\x007\\x006\\x00\\x88\\x00\\x87\\x00\\x86\\x00\\x85\\xc0\\x19\\x00']\n",
      "Bad pipe message: %s [b'\\x89\\xc0\\x0f\\xc0\\x05\\x005\\x00\\x84\\xc0\\x13\\xc0\\t\\x003\\x002\\x001\\x000\\x00\\x9a\\x00\\x99\\x00\\x98\\x00\\x97\\x00E\\x00D\\x00C\\x00B\\xc0\\x18\\x004\\x00\\x9b\\x00F\\xc0\\x0e\\xc0\\x04\\x00/\\x00\\x96\\x00A\\x00\\x07']\n",
      "100%|█████████████████████████████████████████| 67/67 [1:09:28<00:00, 62.21s/it]\n"
     ]
    }
   ],
   "source": [
    "# docs = {\n",
    "#     corp_code: {\n",
    "#         html: html,\n",
    "#         sections: [list of sections],\n",
    "#         ner: [list of ner results]\n",
    "# }\n",
    "pickle_file = '/home/kic/data/dart_processed/html_EV.pickle'\n",
    "\n",
    "if os.path.isfile(pickle_file):\n",
    "    with open(pickle_file, 'rb') as f:\n",
    "        docs = pickle.load(f)\n",
    "else:\n",
    "    \n",
    "    docs = dict() \n",
    "\n",
    "base_url = 'https://dart.fss.or.kr'\n",
    "for code in tqdm(name):\n",
    "    # stock_code = '00536541'\n",
    "    # stock_code = '00490090'\n",
    "\n",
    "    url = f'{base_url}/navi/searchNavi.do?naviCrpCik={code}&naviCode=A002'\n",
    "    response = requests.get(url=url)\n",
    "\n",
    "    soup = bs(response.text, \"html.parser\")\n",
    "\n",
    "    new_url = f\"{base_url}{soup.find('iframe')['src']}\"\n",
    "    new_response = requests.get(url=new_url)\n",
    "\n",
    "\n",
    "    soup = bs(new_response.text, \"html.parser\")\n",
    "\n",
    "    section_tags = soup.findAll('p', {'class': 'section-2'})\n",
    "    sections = []\n",
    "\n",
    "    contents = str(soup)\n",
    "    for i in range (1, len(section_tags)):\n",
    "        start = contents.rfind(str(section_tags[i-1]))\n",
    "        end = contents.rfind(str(section_tags[i]))\n",
    "        temp = bs(contents[start:end], 'html.parser').text\n",
    "        temp = re.sub('\\n', ' ', temp)\n",
    "        temp = re.sub('\\\\xa0', ' ', temp)\n",
    "        temp = re.sub('\\s+', ' ', temp)\n",
    "        sections.append(temp)\n",
    "\n",
    "    docs[code] = {\n",
    "        'html': str(new_response.text),\n",
    "        'sections': sections,\n",
    "        'ner': []\n",
    "    }\n",
    "    time.sleep(60)\n",
    "    "
   ]
  },
  {
   "cell_type": "code",
   "execution_count": 111,
   "metadata": {},
   "outputs": [],
   "source": [
    "with open(pickle_file, 'wb') as f:\n",
    "    pickle.dump(docs, f, pickle.HIGHEST_PROTOCOL)"
   ]
  },
  {
   "cell_type": "code",
   "execution_count": 114,
   "metadata": {},
   "outputs": [],
   "source": [
    "for code, val in docs.items():\n",
    "    if len(val['html']) < 100:\n",
    "        print(code, val['html'])"
   ]
  },
  {
   "attachments": {},
   "cell_type": "markdown",
   "metadata": {},
   "source": [
    "### Summarize & NER"
   ]
  },
  {
   "cell_type": "code",
   "execution_count": null,
   "metadata": {},
   "outputs": [],
   "source": [
    "# html 파일 불러오기 \n",
    "# pickle_file = '/home/kic/data/dart_processed/html_EV.pickle'\n",
    "# with open(pickle_file, 'rb') as f:\n",
    "#     docs = pickle.load(f)"
   ]
  },
  {
   "cell_type": "code",
   "execution_count": 115,
   "metadata": {},
   "outputs": [],
   "source": [
    "summ = Pororo(task=\"summarization\", model=\"extractive\", lang=\"ko\")\n",
    "ner = Pororo(task=\"ner\", lang=\"ko\")"
   ]
  },
  {
   "cell_type": "code",
   "execution_count": 142,
   "metadata": {},
   "outputs": [
    {
     "name": "stderr",
     "output_type": "stream",
     "text": [
      "100%|███████████████████████████████████████████| 67/67 [01:27<00:00,  1.31s/it]\n"
     ]
    }
   ],
   "source": [
    "for code, corp in tqdm(docs.items()):\n",
    "    # 초기화 \n",
    "    if corp['ner']:\n",
    "        corp['ner'] = []  \n",
    "    idx = 0\n",
    "        \n",
    "    for section in corp['sections']:\n",
    "        sample = summ(section)\n",
    "        sample_list = []\n",
    "\n",
    "        # token 길이 조절 \n",
    "        while len(sample) > 512:\n",
    "            sample_list.append(sample[512*idx:512*(idx+1)])\n",
    "            sample = sample[512*(idx+1)]\n",
    "\n",
    "        sample_list.append(sample[512*idx:])\n",
    "\n",
    "        \n",
    "        corp['ner'].append(\n",
    "            set([x for s in sample_list for x in ner(s) if x[1] not in  ['O', 'QUANTITY', 'DATE']])  # 중복 제거 \n",
    "        )\n"
   ]
  },
  {
   "cell_type": "code",
   "execution_count": 143,
   "metadata": {},
   "outputs": [],
   "source": [
    "with open(pickle_file, 'wb') as f:\n",
    "    pickle.dump(docs, f, pickle.HIGHEST_PROTOCOL)"
   ]
  },
  {
   "cell_type": "code",
   "execution_count": null,
   "metadata": {},
   "outputs": [],
   "source": []
  }
 ],
 "metadata": {
  "kernelspec": {
   "display_name": "kpmg",
   "language": "python",
   "name": "kpmg"
  },
  "language_info": {
   "codemirror_mode": {
    "name": "ipython",
    "version": 3
   },
   "file_extension": ".py",
   "mimetype": "text/x-python",
   "name": "python",
   "nbconvert_exporter": "python",
   "pygments_lexer": "ipython3",
   "version": "3.8.16"
  },
  "orig_nbformat": 4
 },
 "nbformat": 4,
 "nbformat_minor": 2
}
